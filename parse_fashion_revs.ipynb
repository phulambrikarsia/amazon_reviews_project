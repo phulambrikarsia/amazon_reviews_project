{
 "cells": [
  {
   "cell_type": "code",
   "execution_count": 1,
   "id": "8013bd9c-cda7-4f5d-ab10-afa841ae729d",
   "metadata": {},
   "outputs": [
    {
     "name": "stdout",
     "output_type": "stream",
     "text": [
      "/home/monkeypunkey/Personal/projects/school/amazon_reviews_project/venv/bin/python\n"
     ]
    }
   ],
   "source": [
    "import requests\n",
    "import os\n",
    "import gzip\n",
    "import json\n",
    "import matplotlib.pyplot as plt\n",
    "import pandas as pd"
   ]
  },
  {
   "cell_type": "code",
   "execution_count": 2,
   "id": "d936ea9c",
   "metadata": {},
   "outputs": [],
   "source": [
    "# Create a new directory named 'data' in the current working directory\n",
    "if not os.path.exists('data'):\n",
    "    os.makedirs('data')\n",
    "\n",
    "# URL of the JSON file containing the Appliances data\n",
    "fashion_url = \"https://datarepo.eng.ucsd.edu/mcauley_group/data/amazon_v2/categoryFilesSmall/AMAZON_FASHION_5.json.gz\"\n",
    "\n",
    "# Local file path to save the downloaded JSON file\n",
    "comp_fashion_path = \"data/comp_fashion.json\"\n",
    "\n",
    "# Check if the JSON file already exists to avoid re-downloading it\n",
    "if not os.path.exists(comp_fashion_path):\n",
    "    # Send a GET request to the URL and save the content to the local .json file\n",
    "    response = requests.get(fashion_url)\n",
    "    with open(comp_fashion_path, 'wb') as file:\n",
    "        file.write(response.content)\n"
   ]
  },
  {
   "cell_type": "code",
   "execution_count": 3,
   "id": "d00c5079",
   "metadata": {},
   "outputs": [],
   "source": [
    "\n",
    "# URL of the JSON file containing the metadata for Appliances\n",
    "meta_url = \"https://datarepo.eng.ucsd.edu/mcauley_group/data/amazon_v2/metaFiles2/meta_AMAZON_FASHION.json.gz\"\n",
    "\n",
    "# Local file path to save the downloaded JSON file\n",
    "comp_meta_fashion_path = \"data/comp_meta_fashion.json\"\n",
    "\n",
    "# Check if the JSON file already exists to avoid re-downloading it\n",
    "if not os.path.exists(comp_meta_fashion_path):\n",
    "    # Send a GET request to the URL and save the content to the local .json file\n",
    "    response = requests.get(meta_url)\n",
    "    with open(comp_meta_fashion_path, 'wb') as file:\n",
    "        file.write(response.content)\n"
   ]
  },
  {
   "cell_type": "code",
   "execution_count": 4,
   "id": "410f7c1b",
   "metadata": {},
   "outputs": [
    {
     "name": "stdout",
     "output_type": "stream",
     "text": [
      "[{'overall': 5.0, 'verified': True, 'reviewTime': '09 4, 2015', 'reviewerID': 'ALJ66O1Y6SLHA', 'asin': 'B000K2PJ4K', 'style': {'Size:': ' Big Boys', 'Color:': ' Black (37467610) / Red/White'}, 'reviewerName': 'Tonya B.', 'reviewText': 'Great product and price!', 'summary': 'Five Stars', 'unixReviewTime': 1441324800}, {'overall': 5.0, 'verified': True, 'reviewTime': '09 4, 2015', 'reviewerID': 'ALJ66O1Y6SLHA', 'asin': 'B000K2PJ4K', 'style': {'Size:': ' Big Boys', 'Color:': ' Blue/Gray Logo'}, 'reviewerName': 'Tonya B.', 'reviewText': 'Great product and price!', 'summary': 'Five Stars', 'unixReviewTime': 1441324800}, {'overall': 5.0, 'verified': True, 'reviewTime': '09 4, 2015', 'reviewerID': 'ALJ66O1Y6SLHA', 'asin': 'B000K2PJ4K', 'style': {'Size:': ' Big Boys', 'Color:': ' Blue (37867638-99) / Yellow'}, 'reviewerName': 'Tonya B.', 'reviewText': 'Great product and price!', 'summary': 'Five Stars', 'unixReviewTime': 1441324800}, {'overall': 5.0, 'verified': True, 'reviewTime': '09 4, 2015', 'reviewerID': 'ALJ66O1Y6SLHA', 'asin': 'B000K2PJ4K', 'style': {'Size:': ' Big Boys', 'Color:': ' Blue/Pink'}, 'reviewerName': 'Tonya B.', 'reviewText': 'Great product and price!', 'summary': 'Five Stars', 'unixReviewTime': 1441324800}, {'overall': 3.0, 'verified': True, 'reviewTime': '05 6, 2015', 'reviewerID': 'A3W11493KS6Z2L', 'asin': 'B000K2PJ4K', 'style': {'Size:': ' Little Boys', 'Color:': ' White/Black'}, 'reviewerName': 'NaeNae', 'reviewText': 'Waaay too small. Will use for futur children!', 'summary': 'Oops!', 'unixReviewTime': 1430870400}, {'overall': 5.0, 'verified': True, 'reviewTime': '05 6, 2015', 'reviewerID': 'A3W11493KS6Z2L', 'asin': 'B000K2PJ4K', 'style': {'Size:': ' Little Boys', 'Color:': ' Blue/Orange'}, 'reviewerName': 'NaeNae', 'reviewText': 'Stays vibrant after many washes', 'summary': 'Great', 'unixReviewTime': 1430870400}, {'overall': 5.0, 'verified': True, 'reviewTime': '05 6, 2015', 'reviewerID': 'A3W11493KS6Z2L', 'asin': 'B000K2PJ4K', 'style': {'Size:': ' Little Boys', 'Color:': ' Blue (37867638-99) / Yellow'}, 'reviewerName': 'NaeNae', 'reviewText': 'Stays vibrant after many washes', 'summary': 'Good', 'unixReviewTime': 1430870400}, {'overall': 5.0, 'verified': True, 'reviewTime': '05 6, 2015', 'reviewerID': 'A3W11493KS6Z2L', 'asin': 'B000K2PJ4K', 'style': {'Size:': ' Little Boys', 'Color:': ' Blue/Pink'}, 'reviewerName': 'NaeNae', 'reviewText': 'My son really likes the pink. Ones which I was nervous about', 'summary': 'Great', 'unixReviewTime': 1430870400}, {'overall': 3.0, 'verified': True, 'reviewTime': '05 6, 2015', 'reviewerID': 'A3W11493KS6Z2L', 'asin': 'B000K2PJ4K', 'style': {'Size:': ' Little Boys', 'Color:': ' Light Blue/Red'}, 'reviewerName': 'NaeNae', 'reviewText': 'Waaay too small. Will use for future child.', 'summary': 'Oops!', 'unixReviewTime': 1430870400}, {'overall': 2.0, 'verified': True, 'reviewTime': '01 25, 2018', 'reviewerID': 'A3HX4X3TIABWOV', 'asin': 'B000KPIHQ4', 'style': {'Size Name:': \" Men's 6-6.5, Women's 8-8.5\", 'Style:': ' Pinnacle'}, 'reviewerName': 'Denise A. Conte', 'reviewText': 'Relieved my Plantar Fascitis for 3 Days. Then the unbearable pain returned in full force. These were recommended by my Podiatrist.', 'summary': 'These were recommended by my Podiatrist', 'unixReviewTime': 1516838400}, {'overall': 2.0, 'verified': True, 'reviewTime': '01 5, 2017', 'reviewerID': 'AW8UBYMNJ894V', 'asin': 'B000KPIHQ4', 'style': {'Size Name:': \" Men's 8-8.5, Women's 10-10.5\", 'Style:': ' Pinnacle'}, 'reviewerName': 'Cognizant Consumer', 'reviewText': 'This is my 6th pair and they are the best thing ever for my plantar fasciitis and resultant neuromas. Unfortunately, the ones I ordered from SmartDestination must be seconds as they kill my feet. The hard plastic insert rubs on the outside edges of my feet. I am unable to exchange them as I waited one day too late to use them in my walking shoes.', 'summary': 'Not the same as all my other pairs.', 'unixReviewTime': 1483574400}, {'overall': 5.0, 'verified': True, 'reviewTime': '10 17, 2016', 'reviewerID': 'A265UZVOZWTTXQ', 'asin': 'B000KPIHQ4', 'reviewerName': 'William_Jasper', 'reviewText': 'We have used these inserts for years.  They provide great support.', 'summary': 'Great inserts', 'unixReviewTime': 1476662400}, {'overall': 5.0, 'verified': True, 'reviewTime': '08 22, 2016', 'reviewerID': 'AW8UBYMNJ894V', 'asin': 'B000KPIHQ4', 'reviewerName': 'Cognizant Consumer', 'reviewText': 'Pinnacle seems to have more cushioning so my husband likes them better. He\\'s tried all the other Powerstep inserts as well as other brands. This is his must have insert. He is 6\\'3\" and weighs 257lbs with bone spurs (plantar fasciitis) and a high instep. He is very active and wears these in all his shoes. His bone spurs rarely bother him any more. Remember to replace them every 3 months if you wear them every day, especially if you weigh more than average and/or run.', 'summary': 'Personal favorite', 'unixReviewTime': 1471824000}, {'overall': 5.0, 'verified': True, 'reviewTime': '03 23, 2016', 'reviewerID': 'A265UZVOZWTTXQ', 'asin': 'B000KPIHQ4', 'reviewerName': 'William_Jasper', 'reviewText': 'Excellent insole with good support.', 'summary': 'Five Stars', 'unixReviewTime': 1458691200}, {'overall': 5.0, 'verified': True, 'reviewTime': '06 24, 2015', 'reviewerID': 'AW8UBYMNJ894V', 'asin': 'B000KPIHQ4', 'reviewerName': 'Cognizant Consumer', 'reviewText': 'A little more cushion than the Powerstep Protech but the arch is maybe just a little lower. We love both styles. Excellent for plantar fasciitis and neuromas.', 'summary': 'Great comfort!', 'unixReviewTime': 1435104000}, {'overall': 5.0, 'verified': True, 'reviewTime': '11 17, 2014', 'reviewerID': 'A265UZVOZWTTXQ', 'asin': 'B000KPIHQ4', 'reviewerName': 'William_Jasper', 'reviewText': 'These insoles help my heels feel much better.  I would never wear a pair of athletic shoes with the original insoles.', 'summary': 'These insoles help my heel feels much better. I would never wear a pair of athletic ...', 'unixReviewTime': 1416182400}, {'reviewerID': 'A3HX4X3TIABWOV', 'asin': 'B000V0IBDM', 'reviewerName': 'Denise A. Conte', 'verified': True, 'reviewText': 'Relieved my Plantar Fascitis for 3 Days. Then the unbearable pain returned in full force. These were recommended by my Podiatrist.', 'overall': 2.0, 'reviewTime': '01 25, 2018', 'summary': 'These were recommended by my Podiatrist', 'unixReviewTime': 1516838400}, {'reviewerID': 'AW8UBYMNJ894V', 'asin': 'B000V0IBDM', 'reviewerName': 'Cognizant Consumer', 'verified': True, 'reviewText': 'This is my 6th pair and they are the best thing ever for my plantar fasciitis and resultant neuromas. Unfortunately, the ones I ordered from SmartDestination must be seconds as they kill my feet. The hard plastic insert rubs on the outside edges of my feet. I am unable to exchange them as I waited one day too late to use them in my walking shoes.', 'overall': 2.0, 'reviewTime': '01 5, 2017', 'summary': 'Not the same as all my other pairs.', 'unixReviewTime': 1483574400}, {'reviewerID': 'A265UZVOZWTTXQ', 'asin': 'B000V0IBDM', 'reviewerName': 'William_Jasper', 'verified': True, 'reviewText': 'We have used these inserts for years.  They provide great support.', 'overall': 5.0, 'reviewTime': '10 17, 2016', 'summary': 'Great inserts', 'unixReviewTime': 1476662400}, {'reviewerID': 'AW8UBYMNJ894V', 'asin': 'B000V0IBDM', 'reviewerName': 'Cognizant Consumer', 'verified': True, 'reviewText': 'Pinnacle seems to have more cushioning so my husband likes them better. He\\'s tried all the other Powerstep inserts as well as other brands. This is his must have insert. He is 6\\'3\" and weighs 257lbs with bone spurs (plantar fasciitis) and a high instep. He is very active and wears these in all his shoes. His bone spurs rarely bother him any more. Remember to replace them every 3 months if you wear them every day, especially if you weigh more than average and/or run.', 'overall': 5.0, 'reviewTime': '08 22, 2016', 'summary': 'Personal favorite', 'unixReviewTime': 1471824000}, {'reviewerID': 'A265UZVOZWTTXQ', 'asin': 'B000V0IBDM', 'reviewerName': 'William_Jasper', 'verified': True, 'reviewText': 'Excellent insole with good support.', 'overall': 5.0, 'reviewTime': '03 23, 2016', 'summary': 'Five Stars', 'unixReviewTime': 1458691200}, {'reviewerID': 'AW8UBYMNJ894V', 'asin': 'B000V0IBDM', 'reviewerName': 'Cognizant Consumer', 'verified': True, 'reviewText': 'A little more cushion than the Powerstep Protech but the arch is maybe just a little lower. We love both styles. Excellent for plantar fasciitis and neuromas.', 'overall': 5.0, 'reviewTime': '06 24, 2015', 'summary': 'Great comfort!', 'unixReviewTime': 1435104000}, {'reviewerID': 'A265UZVOZWTTXQ', 'asin': 'B000V0IBDM', 'reviewerName': 'William_Jasper', 'verified': True, 'reviewText': 'These insoles help my heels feel much better.  I would never wear a pair of athletic shoes with the original insoles.', 'overall': 5.0, 'reviewTime': '11 17, 2014', 'summary': 'These insoles help my heel feels much better. I would never wear a pair of athletic ...', 'unixReviewTime': 1416182400}, {'overall': 1.0, 'verified': True, 'reviewTime': '03 12, 2018', 'reviewerID': 'A3QY3THQ42WSCQ', 'asin': 'B000YFSR5G', 'style': {'Size:': ' X-Large', 'Color:': ' Charcoal Heather'}, 'reviewerName': 'Amazon Customer', 'reviewText': 'Waaaay too BIG', 'summary': 'One Star', 'unixReviewTime': 1520812800}, {'overall': 5.0, 'verified': True, 'reviewTime': '02 8, 2018', 'reviewerID': 'AGZ5OOZVDO194', 'asin': 'B000YFSR5G', 'style': {'Size:': ' XX-Large', 'Color:': ' Deep Royal'}, 'reviewerName': 'Amazon Customer', 'reviewText': 'Comfortable', 'summary': 'Five Stars', 'unixReviewTime': 1518048000}, {'overall': 4.0, 'vote': '35', 'verified': True, 'reviewTime': '07 1, 2010', 'reviewerID': 'A3GJ3DJU1RXOHN', 'asin': 'B000YFSR4W', 'reviewerName': 'JCW', 'reviewText': \"great price for the product, though the sizes tend to be bigger (based on mens size i think).  there wasn't a size chart to refer to when i was ordering, so i ended up buying two, each at a difference size.\", 'summary': 'size runs big', 'unixReviewTime': 1277942400}, {'overall': 5.0, 'verified': True, 'reviewTime': '10 25, 2017', 'reviewerID': 'A232J1FHOQI5YN', 'asin': 'B000YFSR5G', 'style': {'Size:': ' X-Large', 'Color:': ' Navy'}, 'reviewerName': 'Louis Robbio', 'reviewText': 'Good product for the price.  Used very day and no problem.', 'summary': 'Five Stars', 'unixReviewTime': 1508889600}, {'overall': 5.0, 'vote': '3', 'verified': True, 'reviewTime': '10 14, 2017', 'reviewerID': 'A2ON4RYI9Z4SQ', 'asin': 'B000YFSR5G', 'style': {'Size:': ' Medium', 'Color:': ' Light Steel'}, 'reviewerName': 'Fhteacher', 'reviewText': 'Good fit even after washing in hot water to force shrinking. I have a 30 inch inseam and 34 waist and got a medium size. Note that these sweatpants are very thick so not good for warm climates. Good quality and great price.', 'summary': 'Good fit', 'unixReviewTime': 1507939200}, {'overall': 1.0, 'verified': True, 'reviewTime': '03 12, 2018', 'reviewerID': 'A3QY3THQ42WSCQ', 'asin': 'B000YFSR4W', 'style': {'Size:': ' X-Large', 'Color:': ' Charcoal Heather'}, 'reviewerName': 'Amazon Customer', 'reviewText': 'Waaaay too BIG', 'summary': 'One Star', 'unixReviewTime': 1520812800}, {'overall': 5.0, 'verified': True, 'reviewTime': '07 30, 2017', 'reviewerID': 'A232J1FHOQI5YN', 'asin': 'B000YFSR5G', 'style': {'Size:': ' X-Large', 'Color:': ' Light Steel'}, 'reviewerName': 'Louis Robbio', 'reviewText': 'Excellent value.  Comfortable.', 'summary': 'Excellent Product', 'unixReviewTime': 1501372800}, {'overall': 5.0, 'verified': True, 'reviewTime': '06 16, 2017', 'reviewerID': 'A1EZN3E9R322YJ', 'asin': 'B000YFSR5G', 'style': {'Size:': ' XXX-Large', 'Color:': ' Deep Royal'}, 'reviewerName': 'wayne ereira', 'reviewText': 'Typical Hanes quality. Good weight, sized just right, made pretty well', 'summary': 'Typical Quality', 'unixReviewTime': 1497571200}, {'overall': 3.0, 'verified': True, 'reviewTime': '04 18, 2017', 'reviewerID': 'A3T8NHQYBQSV1X', 'asin': 'B000YFSR5G', 'style': {'Size:': ' Medium', 'Color:': ' Navy'}, 'reviewerName': 'Mark', 'reviewText': \"The waist string broke first time trying them on. Luckily I don't really need the wast string but it would be nice if it did not break.\\n\\nThat being said the pants fit as expected and are comfortable. Probably shop around next time I make a sweatpant purchase.\", 'summary': \"Don't sweat the pants\", 'unixReviewTime': 1492473600}, {'overall': 5.0, 'verified': True, 'reviewTime': '04 13, 2017', 'reviewerID': 'A2NEJIX5NIH2ZZ', 'asin': 'B000YFSR5G', 'style': {'Size:': ' Medium', 'Color:': ' Charcoal Heather'}, 'reviewerName': 'jami', 'reviewText': \"Fit perfectly. I bought dark grey, and they didn't fade\", 'summary': 'Five Stars', 'unixReviewTime': 1492041600}, {'overall': 3.0, 'verified': True, 'reviewTime': '04 13, 2017', 'reviewerID': 'A2NEJIX5NIH2ZZ', 'asin': 'B000YFSR5G', 'style': {'Size:': ' Medium', 'Color:': ' Black'}, 'reviewerName': 'jami', 'reviewText': 'They fit great. But they fade bad', 'summary': 'Three Stars', 'unixReviewTime': 1492041600}, {'overall': 4.0, 'verified': True, 'reviewTime': '04 5, 2017', 'reviewerID': 'A3T8NHQYBQSV1X', 'asin': 'B000YFSR5G', 'style': {'Size:': ' Medium', 'Color:': ' Black'}, 'reviewerName': 'Mark', 'reviewText': 'I only give four stars because the pants have no pockets.', 'summary': 'Four Stars', 'unixReviewTime': 1491350400}, {'overall': 3.0, 'verified': True, 'reviewTime': '03 24, 2017', 'reviewerID': 'A1G0HYMR02WM2W', 'asin': 'B000YFSR5G', 'style': {'Size:': ' XX-Large', 'Color:': ' Deep Royal'}, 'reviewerName': 'Cici Ciconia', 'reviewText': 'Average product.  As described.', 'summary': 'Three Stars', 'unixReviewTime': 1490313600}, {'overall': 5.0, 'verified': True, 'reviewTime': '02 8, 2018', 'reviewerID': 'AGZ5OOZVDO194', 'asin': 'B000YFSR4W', 'style': {'Size:': ' XX-Large', 'Color:': ' Deep Royal'}, 'reviewerName': 'Amazon Customer', 'reviewText': 'Comfortable', 'summary': 'Five Stars', 'unixReviewTime': 1518048000}, {'overall': 5.0, 'verified': True, 'reviewTime': '03 11, 2017', 'reviewerID': 'A2BFZUQ2XV535H', 'asin': 'B000YFSR5G', 'style': {'Size:': ' Large', 'Color:': ' Charcoal Heather'}, 'reviewerName': 'Amazon Customer', 'reviewText': 'comfy fit', 'summary': 'Five Stars', 'unixReviewTime': 1489190400}, {'overall': 2.0, 'verified': True, 'reviewTime': '02 21, 2017', 'reviewerID': 'ABX2R8Q6GBTJ8', 'asin': 'B000YFSR5G', 'style': {'Size:': ' Medium', 'Color:': ' Black'}, 'reviewerName': 'Sammy C.', 'reviewText': 'Nice pants but too small for a medium. Return it.', 'summary': 'Returned also', 'unixReviewTime': 1487635200}, {'overall': 2.0, 'verified': True, 'reviewTime': '02 21, 2017', 'reviewerID': 'ABX2R8Q6GBTJ8', 'asin': 'B000YFSR5G', 'style': {'Size:': ' Medium', 'Color:': ' Navy'}, 'reviewerName': 'Sammy C.', 'reviewText': 'Nice pants but too small for a medium. Returned it.', 'summary': 'Returned', 'unixReviewTime': 1487635200}, {'overall': 4.0, 'verified': True, 'reviewTime': '02 21, 2017', 'reviewerID': 'A1Y01U6OZLZE7I', 'asin': 'B000YFSR5G', 'style': {'Size:': ' X-Large', 'Color:': ' Charcoal Heather'}, 'reviewerName': 'Heather Devine', 'reviewText': 'Very comfy. If they had pockets, theyd be awesome! I bought these for me to lounge around in and my husband has stolen them. I might have to buy another pair!', 'summary': 'Comfy and warm.', 'unixReviewTime': 1487635200}, {'overall': 1.0, 'verified': True, 'reviewTime': '02 8, 2017', 'reviewerID': 'A21HH0VIBKK80J', 'asin': 'B000YFSR5G', 'reviewerName': 'Sondra McDonald', 'reviewText': 'Was terribly disappointed, the pants were way too large in the legs, my husband looked like he was wearing blown up clown pants.', 'summary': 'Was terribly disappointed, the pants were way too large in ...', 'unixReviewTime': 1486512000}, {'overall': 3.0, 'verified': True, 'reviewTime': '02 1, 2017', 'reviewerID': 'A1G0HYMR02WM2W', 'asin': 'B000YFSR5G', 'style': {'Size:': ' XXX-Large', 'Color:': ' Light Steel'}, 'reviewerName': 'Cici Ciconia', 'reviewText': 'As described.', 'summary': 'Three Stars', 'unixReviewTime': 1485907200}, {'overall': 5.0, 'verified': True, 'reviewTime': '01 23, 2017', 'reviewerID': 'A2BFZUQ2XV535H', 'asin': 'B000YFSR5G', 'reviewerName': 'Amazon Customer', 'reviewText': 'Very comfy for wearing at home.', 'summary': 'Five Stars', 'unixReviewTime': 1485129600}, {'overall': 5.0, 'verified': True, 'reviewTime': '03 8, 2016', 'reviewerID': 'A3E30OLSMGJEVK', 'asin': 'B000YFSR5G', 'reviewerName': 'ladybug', 'reviewText': 'So comfortable and soft.', 'summary': 'Hanes pants', 'unixReviewTime': 1457395200}, {'overall': 2.0, 'verified': True, 'reviewTime': '10 26, 2015', 'reviewerID': 'A26TEJJ6YOGWMZ', 'asin': 'B000YFSR5G', 'reviewerName': 'Henry A.', 'reviewText': 'Did not fit well. Was not comfortable. Switched to \"Fruit of the loom\". Fruit of the loom are somewhat oversized but fit well and are very comfortable.', 'summary': 'Was not comfortable. Switched to \"Fruit of the loom\"', 'unixReviewTime': 1445817600}, {'overall': 3.0, 'verified': True, 'reviewTime': '06 11, 2015', 'reviewerID': 'A2J9WEIRNVTX61', 'asin': 'B000YFSR5G', 'reviewerName': 'Wildcat', 'reviewText': 'No pockets and huge, the bottom of the pants go over shoes', 'summary': 'large with no pockets', 'unixReviewTime': 1433980800}, {'overall': 4.0, 'verified': True, 'reviewTime': '05 24, 2015', 'reviewerID': 'A2UUEV4MYOJY66', 'asin': 'B000YFSR5G', 'reviewerName': 'Fix-it Man', 'reviewText': 'Not much for wearing anything other than jeans. These fit OK for my size. Nice for lounging in around the house.', 'summary': 'Fleece Pants', 'unixReviewTime': 1432425600}, {'overall': 5.0, 'verified': True, 'reviewTime': '03 8, 2016', 'reviewerID': 'A3E30OLSMGJEVK', 'asin': 'B000YFSR5G', 'reviewerName': 'ladybug', 'reviewText': 'So comfortable and soft.', 'summary': 'Hanes pants', 'unixReviewTime': 1457395200}, {'overall': 2.0, 'verified': True, 'reviewTime': '10 26, 2015', 'reviewerID': 'A26TEJJ6YOGWMZ', 'asin': 'B000YFSR5G', 'reviewerName': 'Henry A.', 'reviewText': 'Did not fit well. Was not comfortable. Switched to \"Fruit of the loom\". Fruit of the loom are somewhat oversized but fit well and are very comfortable.', 'summary': 'Was not comfortable. Switched to \"Fruit of the loom\"', 'unixReviewTime': 1445817600}, {'overall': 3.0, 'verified': True, 'reviewTime': '06 11, 2015', 'reviewerID': 'A2J9WEIRNVTX61', 'asin': 'B000YFSR5G', 'reviewerName': 'Wildcat', 'reviewText': 'No pockets and huge, the bottom of the pants go over shoes', 'summary': 'large with no pockets', 'unixReviewTime': 1433980800}, {'overall': 4.0, 'verified': True, 'reviewTime': '05 24, 2015', 'reviewerID': 'A2UUEV4MYOJY66', 'asin': 'B000YFSR5G', 'reviewerName': 'Fix-it Man', 'reviewText': 'Not much for wearing anything other than jeans. These fit OK for my size. Nice for lounging in around the house.', 'summary': 'Fleece Pants', 'unixReviewTime': 1432425600}, {'overall': 5.0, 'verified': True, 'reviewTime': '02 4, 2015', 'reviewerID': 'A36GNVEQP92OPA', 'asin': 'B000YFSR5G', 'style': {'Size:': ' Medium', 'Color:': ' Navy'}, 'reviewerName': 'Peter B. Thorp', 'reviewText': \"Love 'em, just the plain no frills no pockets not too heavy good ol sweatpants.\", 'summary': 'Five Stars', 'unixReviewTime': 1423008000}, {'overall': 5.0, 'verified': True, 'reviewTime': '10 25, 2017', 'reviewerID': 'A232J1FHOQI5YN', 'asin': 'B000YFSR4W', 'style': {'Size:': ' X-Large', 'Color:': ' Navy'}, 'reviewerName': 'Louis Robbio', 'reviewText': 'Good product for the price.  Used very day and no problem.', 'summary': 'Five Stars', 'unixReviewTime': 1508889600}, {'overall': 5.0, 'vote': '3', 'verified': True, 'reviewTime': '10 14, 2017', 'reviewerID': 'A2ON4RYI9Z4SQ', 'asin': 'B000YFSR4W', 'style': {'Size:': ' Medium', 'Color:': ' Light Steel'}, 'reviewerName': 'Fhteacher', 'reviewText': 'Good fit even after washing in hot water to force shrinking. I have a 30 inch inseam and 34 waist and got a medium size. Note that these sweatpants are very thick so not good for warm climates. Good quality and great price.', 'summary': 'Good fit', 'unixReviewTime': 1507939200}, {'overall': 4.0, 'vote': '35', 'verified': True, 'reviewTime': '07 1, 2010', 'reviewerID': 'A3GJ3DJU1RXOHN', 'asin': 'B000YFSR5G', 'reviewerName': 'JCW', 'reviewText': \"great price for the product, though the sizes tend to be bigger (based on mens size i think).  there wasn't a size chart to refer to when i was ordering, so i ended up buying two, each at a difference size.\", 'summary': 'size runs big', 'unixReviewTime': 1277942400}, {'overall': 5.0, 'verified': True, 'reviewTime': '07 30, 2017', 'reviewerID': 'A232J1FHOQI5YN', 'asin': 'B000YFSR4W', 'style': {'Size:': ' X-Large', 'Color:': ' Light Steel'}, 'reviewerName': 'Louis Robbio', 'reviewText': 'Excellent value.  Comfortable.', 'summary': 'Excellent Product', 'unixReviewTime': 1501372800}, {'overall': 5.0, 'verified': True, 'reviewTime': '06 16, 2017', 'reviewerID': 'A1EZN3E9R322YJ', 'asin': 'B000YFSR4W', 'style': {'Size:': ' XXX-Large', 'Color:': ' Deep Royal'}, 'reviewerName': 'wayne ereira', 'reviewText': 'Typical Hanes quality. Good weight, sized just right, made pretty well', 'summary': 'Typical Quality', 'unixReviewTime': 1497571200}, {'overall': 3.0, 'verified': True, 'reviewTime': '04 18, 2017', 'reviewerID': 'A3T8NHQYBQSV1X', 'asin': 'B000YFSR4W', 'style': {'Size:': ' Medium', 'Color:': ' Navy'}, 'reviewerName': 'Mark', 'reviewText': \"The waist string broke first time trying them on. Luckily I don't really need the wast string but it would be nice if it did not break.\\n\\nThat being said the pants fit as expected and are comfortable. Probably shop around next time I make a sweatpant purchase.\", 'summary': \"Don't sweat the pants\", 'unixReviewTime': 1492473600}, {'overall': 5.0, 'verified': True, 'reviewTime': '04 13, 2017', 'reviewerID': 'A2NEJIX5NIH2ZZ', 'asin': 'B000YFSR4W', 'style': {'Size:': ' Medium', 'Color:': ' Charcoal Heather'}, 'reviewerName': 'jami', 'reviewText': \"Fit perfectly. I bought dark grey, and they didn't fade\", 'summary': 'Five Stars', 'unixReviewTime': 1492041600}, {'overall': 3.0, 'verified': True, 'reviewTime': '04 13, 2017', 'reviewerID': 'A2NEJIX5NIH2ZZ', 'asin': 'B000YFSR4W', 'style': {'Size:': ' Medium', 'Color:': ' Black'}, 'reviewerName': 'jami', 'reviewText': 'They fit great. But they fade bad', 'summary': 'Three Stars', 'unixReviewTime': 1492041600}, {'overall': 4.0, 'verified': True, 'reviewTime': '04 5, 2017', 'reviewerID': 'A3T8NHQYBQSV1X', 'asin': 'B000YFSR4W', 'style': {'Size:': ' Medium', 'Color:': ' Black'}, 'reviewerName': 'Mark', 'reviewText': 'I only give four stars because the pants have no pockets.', 'summary': 'Four Stars', 'unixReviewTime': 1491350400}, {'overall': 3.0, 'verified': True, 'reviewTime': '03 24, 2017', 'reviewerID': 'A1G0HYMR02WM2W', 'asin': 'B000YFSR4W', 'style': {'Size:': ' XX-Large', 'Color:': ' Deep Royal'}, 'reviewerName': 'Cici Ciconia', 'reviewText': 'Average product.  As described.', 'summary': 'Three Stars', 'unixReviewTime': 1490313600}, {'overall': 5.0, 'verified': True, 'reviewTime': '03 11, 2017', 'reviewerID': 'A2BFZUQ2XV535H', 'asin': 'B000YFSR4W', 'style': {'Size:': ' Large', 'Color:': ' Charcoal Heather'}, 'reviewerName': 'Amazon Customer', 'reviewText': 'comfy fit', 'summary': 'Five Stars', 'unixReviewTime': 1489190400}, {'overall': 2.0, 'verified': True, 'reviewTime': '02 21, 2017', 'reviewerID': 'ABX2R8Q6GBTJ8', 'asin': 'B000YFSR4W', 'style': {'Size:': ' Medium', 'Color:': ' Black'}, 'reviewerName': 'Sammy C.', 'reviewText': 'Nice pants but too small for a medium. Return it.', 'summary': 'Returned also', 'unixReviewTime': 1487635200}, {'overall': 2.0, 'verified': True, 'reviewTime': '02 21, 2017', 'reviewerID': 'ABX2R8Q6GBTJ8', 'asin': 'B000YFSR4W', 'style': {'Size:': ' Medium', 'Color:': ' Navy'}, 'reviewerName': 'Sammy C.', 'reviewText': 'Nice pants but too small for a medium. Returned it.', 'summary': 'Returned', 'unixReviewTime': 1487635200}, {'overall': 4.0, 'verified': True, 'reviewTime': '02 21, 2017', 'reviewerID': 'A1Y01U6OZLZE7I', 'asin': 'B000YFSR4W', 'style': {'Size:': ' X-Large', 'Color:': ' Charcoal Heather'}, 'reviewerName': 'Heather Devine', 'reviewText': 'Very comfy. If they had pockets, theyd be awesome! I bought these for me to lounge around in and my husband has stolen them. I might have to buy another pair!', 'summary': 'Comfy and warm.', 'unixReviewTime': 1487635200}, {'overall': 1.0, 'verified': True, 'reviewTime': '02 8, 2017', 'reviewerID': 'A21HH0VIBKK80J', 'asin': 'B000YFSR4W', 'reviewerName': 'Sondra McDonald', 'reviewText': 'Was terribly disappointed, the pants were way too large in the legs, my husband looked like he was wearing blown up clown pants.', 'summary': 'Was terribly disappointed, the pants were way too large in ...', 'unixReviewTime': 1486512000}, {'overall': 3.0, 'verified': True, 'reviewTime': '02 1, 2017', 'reviewerID': 'A1G0HYMR02WM2W', 'asin': 'B000YFSR4W', 'style': {'Size:': ' XXX-Large', 'Color:': ' Light Steel'}, 'reviewerName': 'Cici Ciconia', 'reviewText': 'As described.', 'summary': 'Three Stars', 'unixReviewTime': 1485907200}, {'reviewerID': 'A3CNRM11BHAR1A', 'asin': 'B0012DR1LU', 'reviewerName': 'DD', 'verified': True, 'reviewText': \"Havaiana's are THE BEST!!!\", 'overall': 5.0, 'reviewTime': '07 22, 2015', 'summary': 'Five Stars', 'unixReviewTime': 1437523200}, {'reviewerID': 'A3CNRM11BHAR1A', 'asin': 'B0012DR1LU', 'reviewerName': 'DD', 'verified': True, 'reviewText': 'Perfect color!', 'overall': 5.0, 'reviewTime': '08 6, 2014', 'summary': 'I love Havaianas!', 'unixReviewTime': 1407283200}, {'overall': 1.0, 'verified': True, 'reviewTime': '02 19, 2018', 'reviewerID': 'A276HQXYS553QW', 'asin': 'B0014F8TIU', 'style': {'Size:': ' One Size', 'Color:': ' Black/White'}, 'reviewerName': 'AvidShopper', 'reviewText': 'Should have listened to other reviews. The elastics does not hold up.', 'summary': 'One Star', 'unixReviewTime': 1518998400}, {'overall': 1.0, 'verified': True, 'reviewTime': '02 19, 2018', 'reviewerID': 'A276HQXYS553QW', 'asin': 'B0014F8TIU', 'style': {'Size:': ' One Size', 'Color:': ' White/Black'}, 'reviewerName': 'AvidShopper', 'reviewText': 'Constantly rolls down', 'summary': 'One Star', 'unixReviewTime': 1518998400}, {'overall': 5.0, 'verified': True, 'reviewTime': '09 26, 2017', 'reviewerID': 'A3BN0MRGRDKM0J', 'asin': 'B0014F8TIU', 'style': {'Size:': ' One Size', 'Color:': ' Red/White/Blue'}, 'reviewerName': 'j.morris', 'reviewText': 'Superrrr thigh high. Im 54 and it easily reaches 3/4 up my thigh!!', 'summary': 'Great!!! Very high!', 'unixReviewTime': 1506384000}, {'overall': 4.0, 'verified': True, 'reviewTime': '10 31, 2015', 'reviewerID': 'A276HQXYS553QW', 'asin': 'B0014F8TIU', 'style': {'Size:': ' One Size', 'Color:': ' Red/White/Blue'}, 'reviewerName': 'AvidShopper', 'reviewText': 'I just wish they would not roll down.', 'summary': 'Cute but will roll', 'unixReviewTime': 1446249600}, {'overall': 4.0, 'verified': True, 'reviewTime': '01 29, 2016', 'reviewerID': 'A3HX4X3TIABWOV', 'asin': 'B0014HA6VG', 'style': {'Size:': ' One Size', 'Color:': ' Fireman (Red)'}, 'reviewerName': 'Denise A. Conte', 'reviewText': \"Sadly, not a true red. It's definitely orange\", 'summary': 'Four Stars', 'unixReviewTime': 1454025600}, {'overall': 5.0, 'verified': True, 'reviewTime': '01 22, 2016', 'reviewerID': 'A3HX4X3TIABWOV', 'asin': 'B0014HA6VG', 'style': {'Size:': ' One Size', 'Color:': ' Space Hero (Blue)'}, 'reviewerName': 'Denise A. Conte', 'reviewText': \"Well made, soft, thick & so very colorful. Bought the just as gorgeous rich, red Fireman's scarf, too. My little fella is quite the fashion plate! And toasty, too!\", 'summary': 'Well made, soft, thick & so very colorful ...', 'unixReviewTime': 1453420800}, {'overall': 3.0, 'verified': True, 'reviewTime': '07 12, 2015', 'reviewerID': 'A1Z8U8IPBLBEU5', 'asin': 'B0017LD0BM', 'style': {'Size:': ' 1.50'}, 'reviewerName': 'Seth Hanson', 'reviewText': 'Not pretty for fashion but great around the house and work.', 'summary': 'Three Stars', 'unixReviewTime': 1436659200}, {'overall': 2.0, 'verified': True, 'reviewTime': '05 21, 2015', 'reviewerID': 'A36GNVEQP92OPA', 'asin': 'B0017LD0BM', 'style': {'Size:': ' 2.50'}, 'reviewerName': 'Peter B. Thorp', 'reviewText': \"I'm not sure I was shipped the correct style.  The ones I received are a lot clunkier than I expected, although the quality is fine.\", 'summary': 'Huh', 'unixReviewTime': 1432166400}, {'overall': 4.0, 'verified': True, 'reviewTime': '12 29, 2014', 'reviewerID': 'A33GD4H5O1MK6S', 'asin': 'B0017LD0BM', 'style': {'Size:': ' 3.25'}, 'reviewerName': 'phil bensinger', 'reviewText': 'Excellent value', 'summary': 'excellent value and quality', 'unixReviewTime': 1419811200}, {'overall': 3.0, 'verified': True, 'reviewTime': '12 14, 2012', 'reviewerID': 'A12DWXDNZQTKXQ', 'asin': 'B0017LD0BM', 'style': {'Size:': ' 2.75'}, 'reviewerName': 'TDL Chicago', 'reviewText': 'they are fine for the value, particularly since I lose so many\\nreading glasses.  some of the screws do require constant\\ntightening.', 'summary': 'loose screws', 'unixReviewTime': 1355443200}, {'overall': 4.0, 'verified': True, 'reviewTime': '12 25, 2009', 'reviewerID': 'A2VR6SWVSF6K4', 'asin': 'B0017LD0BM', 'style': {'Size:': ' 2.25'}, 'reviewerName': 'C. Schmitt', 'reviewText': 'It is so handy to have this many reading glasses at such a reasonable price.  I like this style reading glasses instead of the ones with nose pieces, I find this style more comfortable.  These glasses are very nice...cheaper than Walmart!', 'summary': 'Good Value', 'unixReviewTime': 1261699200}, {'reviewerID': 'A1Z8U8IPBLBEU5', 'asin': 'B0017LGD34', 'reviewerName': 'Seth Hanson', 'verified': True, 'reviewText': 'Not pretty for fashion but great around the house and work.', 'overall': 3.0, 'reviewTime': '07 12, 2015', 'summary': 'Three Stars', 'unixReviewTime': 1436659200}, {'reviewerID': 'A36GNVEQP92OPA', 'asin': 'B0017LGD34', 'reviewerName': 'Peter B. Thorp', 'verified': True, 'reviewText': \"I'm not sure I was shipped the correct style.  The ones I received are a lot clunkier than I expected, although the quality is fine.\", 'overall': 2.0, 'reviewTime': '05 21, 2015', 'summary': 'Huh', 'unixReviewTime': 1432166400}, {'reviewerID': 'A33GD4H5O1MK6S', 'asin': 'B0017LGD34', 'reviewerName': 'phil bensinger', 'verified': True, 'reviewText': 'Excellent value', 'overall': 4.0, 'reviewTime': '12 29, 2014', 'summary': 'excellent value and quality', 'unixReviewTime': 1419811200}, {'reviewerID': 'A12DWXDNZQTKXQ', 'asin': 'B0017LGD34', 'reviewerName': 'TDL Chicago', 'verified': True, 'reviewText': 'they are fine for the value, particularly since I lose so many\\nreading glasses.  some of the screws do require constant\\ntightening.', 'overall': 3.0, 'reviewTime': '12 14, 2012', 'summary': 'loose screws', 'unixReviewTime': 1355443200}, {'reviewerID': 'A2VR6SWVSF6K4', 'asin': 'B0017LGD34', 'reviewerName': 'C. Schmitt', 'verified': True, 'reviewText': 'It is so handy to have this many reading glasses at such a reasonable price.  I like this style reading glasses instead of the ones with nose pieces, I find this style more comfortable.  These glasses are very nice...cheaper than Walmart!', 'overall': 4.0, 'reviewTime': '12 25, 2009', 'summary': 'Good Value', 'unixReviewTime': 1261699200}, {'overall': 1.0, 'verified': True, 'reviewTime': '03 12, 2018', 'reviewerID': 'A3QY3THQ42WSCQ', 'asin': 'B000YFSR5G', 'style': {'Size:': ' X-Large', 'Color:': ' Charcoal Heather'}, 'reviewerName': 'Amazon Customer', 'reviewText': 'Waaaay too BIG', 'summary': 'One Star', 'unixReviewTime': 1520812800}, {'overall': 5.0, 'verified': True, 'reviewTime': '02 8, 2018', 'reviewerID': 'AGZ5OOZVDO194', 'asin': 'B000YFSR5G', 'style': {'Size:': ' XX-Large', 'Color:': ' Deep Royal'}, 'reviewerName': 'Amazon Customer', 'reviewText': 'Comfortable', 'summary': 'Five Stars', 'unixReviewTime': 1518048000}, {'overall': 4.0, 'vote': '35', 'verified': True, 'reviewTime': '07 1, 2010', 'reviewerID': 'A3GJ3DJU1RXOHN', 'asin': 'B000YFSR4W', 'reviewerName': 'JCW', 'reviewText': \"great price for the product, though the sizes tend to be bigger (based on mens size i think).  there wasn't a size chart to refer to when i was ordering, so i ended up buying two, each at a difference size.\", 'summary': 'size runs big', 'unixReviewTime': 1277942400}, {'overall': 5.0, 'verified': True, 'reviewTime': '10 25, 2017', 'reviewerID': 'A232J1FHOQI5YN', 'asin': 'B000YFSR5G', 'style': {'Size:': ' X-Large', 'Color:': ' Navy'}, 'reviewerName': 'Louis Robbio', 'reviewText': 'Good product for the price.  Used very day and no problem.', 'summary': 'Five Stars', 'unixReviewTime': 1508889600}, {'overall': 5.0, 'vote': '3', 'verified': True, 'reviewTime': '10 14, 2017', 'reviewerID': 'A2ON4RYI9Z4SQ', 'asin': 'B000YFSR5G', 'style': {'Size:': ' Medium', 'Color:': ' Light Steel'}, 'reviewerName': 'Fhteacher', 'reviewText': 'Good fit even after washing in hot water to force shrinking. I have a 30 inch inseam and 34 waist and got a medium size. Note that these sweatpants are very thick so not good for warm climates. Good quality and great price.', 'summary': 'Good fit', 'unixReviewTime': 1507939200}, {'overall': 1.0, 'verified': True, 'reviewTime': '03 12, 2018', 'reviewerID': 'A3QY3THQ42WSCQ', 'asin': 'B000YFSR4W', 'style': {'Size:': ' X-Large', 'Color:': ' Charcoal Heather'}, 'reviewerName': 'Amazon Customer', 'reviewText': 'Waaaay too BIG', 'summary': 'One Star', 'unixReviewTime': 1520812800}, {'overall': 5.0, 'verified': True, 'reviewTime': '07 30, 2017', 'reviewerID': 'A232J1FHOQI5YN', 'asin': 'B000YFSR5G', 'style': {'Size:': ' X-Large', 'Color:': ' Light Steel'}, 'reviewerName': 'Louis Robbio', 'reviewText': 'Excellent value.  Comfortable.', 'summary': 'Excellent Product', 'unixReviewTime': 1501372800}, {'overall': 5.0, 'verified': True, 'reviewTime': '06 16, 2017', 'reviewerID': 'A1EZN3E9R322YJ', 'asin': 'B000YFSR5G', 'style': {'Size:': ' XXX-Large', 'Color:': ' Deep Royal'}, 'reviewerName': 'wayne ereira', 'reviewText': 'Typical Hanes quality. Good weight, sized just right, made pretty well', 'summary': 'Typical Quality', 'unixReviewTime': 1497571200}, {'overall': 3.0, 'verified': True, 'reviewTime': '04 18, 2017', 'reviewerID': 'A3T8NHQYBQSV1X', 'asin': 'B000YFSR5G', 'style': {'Size:': ' Medium', 'Color:': ' Navy'}, 'reviewerName': 'Mark', 'reviewText': \"The waist string broke first time trying them on. Luckily I don't really need the wast string but it would be nice if it did not break.\\n\\nThat being said the pants fit as expected and are comfortable. Probably shop around next time I make a sweatpant purchase.\", 'summary': \"Don't sweat the pants\", 'unixReviewTime': 1492473600}, {'overall': 5.0, 'verified': True, 'reviewTime': '04 13, 2017', 'reviewerID': 'A2NEJIX5NIH2ZZ', 'asin': 'B000YFSR5G', 'style': {'Size:': ' Medium', 'Color:': ' Charcoal Heather'}, 'reviewerName': 'jami', 'reviewText': \"Fit perfectly. I bought dark grey, and they didn't fade\", 'summary': 'Five Stars', 'unixReviewTime': 1492041600}, {'overall': 3.0, 'verified': True, 'reviewTime': '04 13, 2017', 'reviewerID': 'A2NEJIX5NIH2ZZ', 'asin': 'B000YFSR5G', 'style': {'Size:': ' Medium', 'Color:': ' Black'}, 'reviewerName': 'jami', 'reviewText': 'They fit great. But they fade bad', 'summary': 'Three Stars', 'unixReviewTime': 1492041600}, {'overall': 4.0, 'verified': True, 'reviewTime': '04 5, 2017', 'reviewerID': 'A3T8NHQYBQSV1X', 'asin': 'B000YFSR5G', 'style': {'Size:': ' Medium', 'Color:': ' Black'}, 'reviewerName': 'Mark', 'reviewText': 'I only give four stars because the pants have no pockets.', 'summary': 'Four Stars', 'unixReviewTime': 1491350400}]\n"
     ]
    }
   ],
   "source": [
    "\n",
    "# Load the data from the JSON file into a list of dictionaries containing fashion data\n",
    "\n",
    "fashion_data = []\n",
    "meta_fashion_data = []\n",
    "\n",
    "with gzip.open(comp_fashion_path, 'rb') as file:\n",
    "    for line in file:\n",
    "        fashion_data.append(json.loads(line.strip()))\n",
    "\n",
    "with gzip.open(comp_meta_fashion_path, 'rb') as file:\n",
    "    for line in file:\n",
    "        meta_fashion_data.append(json.loads(line.strip()))\n",
    "\n",
    "# Print the first 100 entries of the fashion data (check)\n",
    "print(fashion_data[1:100])"
   ]
  },
  {
   "cell_type": "code",
   "execution_count": 5,
   "id": "727f4acd-c67e-4351-9036-de328e945129",
   "metadata": {},
   "outputs": [],
   "source": [
    "# Create a Pandas DataFrame from the list of dictionaries containing fashion data\n",
    "\n",
    "fashion_df = pd.DataFrame.from_dict(fashion_data)\n",
    "# appliances_meta = pd.read_json(meta_appliances_path, lines = True)"
   ]
  },
  {
   "cell_type": "markdown",
   "id": "43349e09-f55d-47d1-9f1e-b6c57d50c893",
   "metadata": {},
   "source": [
    "### Description of our Data\n",
    "\n",
    "`appliances`: pandas dataframe containing 5-core subsets of Amazon reviews related to Appliances, (all users and items have at least 5 reviews)\n",
    "`appliances_meta`: pandas dataframe containing metadata related to products and product categories, including price and description"
   ]
  },
  {
   "cell_type": "code",
   "execution_count": 6,
   "id": "f4875e7d-5f66-4979-b425-e6fff88f0745",
   "metadata": {},
   "outputs": [
    {
     "data": {
      "text/html": [
       "<div>\n",
       "<style scoped>\n",
       "    .dataframe tbody tr th:only-of-type {\n",
       "        vertical-align: middle;\n",
       "    }\n",
       "\n",
       "    .dataframe tbody tr th {\n",
       "        vertical-align: top;\n",
       "    }\n",
       "\n",
       "    .dataframe thead th {\n",
       "        text-align: right;\n",
       "    }\n",
       "</style>\n",
       "<table border=\"1\" class=\"dataframe\">\n",
       "  <thead>\n",
       "    <tr style=\"text-align: right;\">\n",
       "      <th></th>\n",
       "      <th>overall</th>\n",
       "      <th>verified</th>\n",
       "      <th>reviewTime</th>\n",
       "      <th>reviewerID</th>\n",
       "      <th>asin</th>\n",
       "      <th>style</th>\n",
       "      <th>reviewerName</th>\n",
       "      <th>reviewText</th>\n",
       "      <th>summary</th>\n",
       "      <th>unixReviewTime</th>\n",
       "      <th>vote</th>\n",
       "      <th>image</th>\n",
       "    </tr>\n",
       "  </thead>\n",
       "  <tbody>\n",
       "    <tr>\n",
       "      <th>0</th>\n",
       "      <td>5.0</td>\n",
       "      <td>True</td>\n",
       "      <td>09 4, 2015</td>\n",
       "      <td>ALJ66O1Y6SLHA</td>\n",
       "      <td>B000K2PJ4K</td>\n",
       "      <td>{'Size:': ' Big Boys', 'Color:': ' Blue/Orange'}</td>\n",
       "      <td>Tonya B.</td>\n",
       "      <td>Great product and price!</td>\n",
       "      <td>Five Stars</td>\n",
       "      <td>1441324800</td>\n",
       "      <td>NaN</td>\n",
       "      <td>NaN</td>\n",
       "    </tr>\n",
       "    <tr>\n",
       "      <th>1</th>\n",
       "      <td>5.0</td>\n",
       "      <td>True</td>\n",
       "      <td>09 4, 2015</td>\n",
       "      <td>ALJ66O1Y6SLHA</td>\n",
       "      <td>B000K2PJ4K</td>\n",
       "      <td>{'Size:': ' Big Boys', 'Color:': ' Black (3746...</td>\n",
       "      <td>Tonya B.</td>\n",
       "      <td>Great product and price!</td>\n",
       "      <td>Five Stars</td>\n",
       "      <td>1441324800</td>\n",
       "      <td>NaN</td>\n",
       "      <td>NaN</td>\n",
       "    </tr>\n",
       "    <tr>\n",
       "      <th>2</th>\n",
       "      <td>5.0</td>\n",
       "      <td>True</td>\n",
       "      <td>09 4, 2015</td>\n",
       "      <td>ALJ66O1Y6SLHA</td>\n",
       "      <td>B000K2PJ4K</td>\n",
       "      <td>{'Size:': ' Big Boys', 'Color:': ' Blue/Gray L...</td>\n",
       "      <td>Tonya B.</td>\n",
       "      <td>Great product and price!</td>\n",
       "      <td>Five Stars</td>\n",
       "      <td>1441324800</td>\n",
       "      <td>NaN</td>\n",
       "      <td>NaN</td>\n",
       "    </tr>\n",
       "    <tr>\n",
       "      <th>3</th>\n",
       "      <td>5.0</td>\n",
       "      <td>True</td>\n",
       "      <td>09 4, 2015</td>\n",
       "      <td>ALJ66O1Y6SLHA</td>\n",
       "      <td>B000K2PJ4K</td>\n",
       "      <td>{'Size:': ' Big Boys', 'Color:': ' Blue (37867...</td>\n",
       "      <td>Tonya B.</td>\n",
       "      <td>Great product and price!</td>\n",
       "      <td>Five Stars</td>\n",
       "      <td>1441324800</td>\n",
       "      <td>NaN</td>\n",
       "      <td>NaN</td>\n",
       "    </tr>\n",
       "    <tr>\n",
       "      <th>4</th>\n",
       "      <td>5.0</td>\n",
       "      <td>True</td>\n",
       "      <td>09 4, 2015</td>\n",
       "      <td>ALJ66O1Y6SLHA</td>\n",
       "      <td>B000K2PJ4K</td>\n",
       "      <td>{'Size:': ' Big Boys', 'Color:': ' Blue/Pink'}</td>\n",
       "      <td>Tonya B.</td>\n",
       "      <td>Great product and price!</td>\n",
       "      <td>Five Stars</td>\n",
       "      <td>1441324800</td>\n",
       "      <td>NaN</td>\n",
       "      <td>NaN</td>\n",
       "    </tr>\n",
       "  </tbody>\n",
       "</table>\n",
       "</div>"
      ],
      "text/plain": [
       "   overall  verified  reviewTime     reviewerID        asin  \\\n",
       "0      5.0      True  09 4, 2015  ALJ66O1Y6SLHA  B000K2PJ4K   \n",
       "1      5.0      True  09 4, 2015  ALJ66O1Y6SLHA  B000K2PJ4K   \n",
       "2      5.0      True  09 4, 2015  ALJ66O1Y6SLHA  B000K2PJ4K   \n",
       "3      5.0      True  09 4, 2015  ALJ66O1Y6SLHA  B000K2PJ4K   \n",
       "4      5.0      True  09 4, 2015  ALJ66O1Y6SLHA  B000K2PJ4K   \n",
       "\n",
       "                                               style reviewerName  \\\n",
       "0   {'Size:': ' Big Boys', 'Color:': ' Blue/Orange'}     Tonya B.   \n",
       "1  {'Size:': ' Big Boys', 'Color:': ' Black (3746...     Tonya B.   \n",
       "2  {'Size:': ' Big Boys', 'Color:': ' Blue/Gray L...     Tonya B.   \n",
       "3  {'Size:': ' Big Boys', 'Color:': ' Blue (37867...     Tonya B.   \n",
       "4     {'Size:': ' Big Boys', 'Color:': ' Blue/Pink'}     Tonya B.   \n",
       "\n",
       "                 reviewText     summary  unixReviewTime vote image  \n",
       "0  Great product and price!  Five Stars      1441324800  NaN   NaN  \n",
       "1  Great product and price!  Five Stars      1441324800  NaN   NaN  \n",
       "2  Great product and price!  Five Stars      1441324800  NaN   NaN  \n",
       "3  Great product and price!  Five Stars      1441324800  NaN   NaN  \n",
       "4  Great product and price!  Five Stars      1441324800  NaN   NaN  "
      ]
     },
     "execution_count": 6,
     "metadata": {},
     "output_type": "execute_result"
    }
   ],
   "source": [
    "fashion_df.head()"
   ]
  },
  {
   "cell_type": "code",
   "execution_count": 7,
   "id": "c141cc03-9b36-4a63-bb2c-ddf0ea14d396",
   "metadata": {},
   "outputs": [],
   "source": [
    "# appliances_meta.head()"
   ]
  },
  {
   "cell_type": "code",
   "execution_count": null,
   "metadata": {},
   "outputs": [],
   "source": []
  }
 ],
 "metadata": {
  "kernelspec": {
   "display_name": "Python 3 (ipykernel)",
   "language": "python",
   "name": "python3"
  },
  "language_info": {
   "codemirror_mode": {
    "name": "ipython",
    "version": 3
   },
   "file_extension": ".py",
   "mimetype": "text/x-python",
   "name": "python",
   "nbconvert_exporter": "python",
   "pygments_lexer": "ipython3",
   "version": "3.10.12"
  }
 },
 "nbformat": 4,
 "nbformat_minor": 5
}
